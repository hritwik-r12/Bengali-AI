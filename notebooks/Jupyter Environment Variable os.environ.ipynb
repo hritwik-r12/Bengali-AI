{
 "cells": [
  {
   "cell_type": "markdown",
   "metadata": {},
   "source": [
    "# Jupyter Environment Variable: os.environ \n",
    "\n",
    "One of the issues posed by working in multiple environments, such as: IDE, local Jupyter Lab, and Kaggle Notebooks; is that that whilst the majority of the code is the same, there are sometimes subtle differences such as the location of data input/output files, and sometimes package version differences.\n",
    "\n",
    "The ideal senario would be to have a cross-platform jupyter notebook that can be edited locally, and uploaded/downloaded from Kaggle, with a single unified codebase.\n",
    "\n",
    "This notebook explores the differences between the different Jupyter environments"
   ]
  },
  {
   "cell_type": "code",
   "execution_count": 1,
   "metadata": {},
   "outputs": [],
   "source": [
    "import os"
   ]
  },
  {
   "cell_type": "markdown",
   "metadata": {},
   "source": [
    "## Conclusions\n",
    "\n",
    "For distinguishing between Kaggle and Localhost use:"
   ]
  },
  {
   "cell_type": "code",
   "execution_count": 2,
   "metadata": {},
   "outputs": [
    {
     "name": "stdout",
     "output_type": "stream",
     "text": [
      "os.environ.get('KAGGLE_URL_BASE') ==  None\n"
     ]
    }
   ],
   "source": [
    "# os.environ['KAGGLE_URL_BASE'] == 'https://www.kaggle.com'\n",
    "print(\"os.environ.get('KAGGLE_URL_BASE') == \", os.environ.get('KAGGLE_URL_BASE'))\n",
    "if 'kaggle' in os.environ.get('KAGGLE_URL_BASE','localhost'):\n",
    "    print(\"We are running on a Kaggle Server\") "
   ]
  },
  {
   "cell_type": "code",
   "execution_count": 3,
   "metadata": {},
   "outputs": [
    {
     "name": "stdout",
     "output_type": "stream",
     "text": [
      "os.environ.get('PWD') ==  /home/jamie/code/kaggle-bengali-ai/notebooks\n"
     ]
    }
   ],
   "source": [
    "print(\"os.environ.get('PWD') == \", os.environ.get('PWD'))\n",
    "if os.environ.get('PWD') == '/kaggle/working':\n",
    "    print(\"We are running on a Kaggle Server\")"
   ]
  },
  {
   "cell_type": "code",
   "execution_count": 4,
   "metadata": {},
   "outputs": [
    {
     "name": "stdout",
     "output_type": "stream",
     "text": [
      "os.environ.get('KAGGLE_KERNEL_RUN_TYPE') ==  None\n",
      "We are editing on Localhost\n"
     ]
    }
   ],
   "source": [
    "print(\"os.environ.get('KAGGLE_KERNEL_RUN_TYPE') == \", os.environ.get('KAGGLE_KERNEL_RUN_TYPE'))\n",
    "if os.environ.get('KAGGLE_KERNEL_RUN_TYPE','') == 'Interactive':\n",
    "    print('We are editing a Kaggle Notebook - Interactive Mode')\n",
    "if os.environ.get('KAGGLE_KERNEL_RUN_TYPE','') == 'Batch':\n",
    "    print('We are editing a Kaggle Notebook - Batch Mode')\n",
    "if os.environ.get('KAGGLE_KERNEL_RUN_TYPE','') == '':\n",
    "    print('We are editing on Localhost')    "
   ]
  },
  {
   "cell_type": "code",
   "execution_count": 5,
   "metadata": {},
   "outputs": [
    {
     "name": "stdout",
     "output_type": "stream",
     "text": [
      "os.environ.get('MPLBACKEND') ==  module://ipykernel.pylab.backend_inline\n",
      "We are editing on Localhost\n"
     ]
    }
   ],
   "source": [
    "# os.environ['KAGGLE_URL_BASE'] == 'module://ipykernel.pylab.backend_inline'  \n",
    "print(\"os.environ.get('MPLBACKEND') == \", os.environ.get('MPLBACKEND'))\n",
    "if os.environ.get('MPLBACKEND') == 'agg':\n",
    "    print(\"We are editing a Kaggle Notebook\")\n",
    "if os.environ.get('MPLBACKEND') == 'module://ipykernel.pylab.backend_inline':\n",
    "    print('We are editing on Localhost')"
   ]
  },
  {
   "cell_type": "code",
   "execution_count": 6,
   "metadata": {},
   "outputs": [
    {
     "name": "stdout",
     "output_type": "stream",
     "text": [
      "os.environ.get('USERNAME') ==  None\n"
     ]
    }
   ],
   "source": [
    "print(\"os.environ.get('USERNAME') == \", os.environ.get('USERNAME'))\n",
    "if os.environ.get('USERNAME'):\n",
    "    print('We are editing in IntelliJ')"
   ]
  },
  {
   "cell_type": "markdown",
   "metadata": {},
   "source": [
    "# Raw Data"
   ]
  },
  {
   "cell_type": "code",
   "execution_count": 7,
   "metadata": {},
   "outputs": [
    {
     "name": "stdout",
     "output_type": "stream",
     "text": [
      "find: ‘/kaggle/’: No such file or directory\n"
     ]
    }
   ],
   "source": [
    "!find /kaggle/"
   ]
  },
  {
   "cell_type": "code",
   "execution_count": 8,
   "metadata": {},
   "outputs": [
    {
     "data": {
      "text/plain": [
       "{'BAMF_DESKTOP_FILE_HINT': '/var/lib/snapd/desktop/applications/intellij-idea-ultimate_intellij-idea-ultimate.desktop',\n",
       " 'CLICOLOR': '1',\n",
       " 'CLUTTER_IM_MODULE': 'xim',\n",
       " 'COMP_CONFIGURE_HINTS': '1',\n",
       " 'COMP_CVS_REMOTE': '1',\n",
       " 'COMP_TAR_INTERNAL_PATHS': '1',\n",
       " 'DBUS_SESSION_BUS_ADDRESS': 'unix:path=/run/user/1000/bus',\n",
       " 'DESKTOP_SESSION': 'ubuntu',\n",
       " 'DISPLAY': ':1',\n",
       " 'EDITOR': 'vim',\n",
       " 'GDK_BACKEND': 'x11',\n",
       " 'GDMSESSION': 'ubuntu',\n",
       " 'GIO_LAUNCHED_DESKTOP_FILE': '/var/lib/snapd/desktop/applications/intellij-idea-ultimate_intellij-idea-ultimate.desktop',\n",
       " 'GIO_LAUNCHED_DESKTOP_FILE_PID': '10875',\n",
       " 'GIT_PAGER': 'cat',\n",
       " 'GJS_DEBUG_OUTPUT': 'stderr',\n",
       " 'GJS_DEBUG_TOPICS': 'JS ERROR;JS LOG',\n",
       " 'GNOME_DESKTOP_SESSION_ID': 'this-is-deprecated',\n",
       " 'GNOME_SHELL_SESSION_MODE': 'ubuntu',\n",
       " 'GPG_AGENT_INFO': '/run/user/1000/gnupg/S.gpg-agent:0:1',\n",
       " 'GTK_IM_MODULE': 'ibus',\n",
       " 'GTK_MODULES': '',\n",
       " 'HISTCONTROL': 'ignoreboth',\n",
       " 'HOME': '/home/jamie',\n",
       " 'HOMEBREW_GITHUB_API_TOKEN': '#',\n",
       " 'IM_CONFIG_PHASE': '2',\n",
       " 'JAVA_HOME': '',\n",
       " 'JPY_PARENT_PID': '22991',\n",
       " 'KERNEL_LAUNCH_TIMEOUT': '40',\n",
       " 'LANG': 'en_GB.UTF-8',\n",
       " 'LANGUAGE': 'en_GB:en',\n",
       " 'LD_LIBRARY_PATH': '/usr/local/cuda-10.1/targets/x86_64-linux/lib',\n",
       " 'LESS': '-R',\n",
       " 'LESSCLOSE': '/usr/bin/lesspipe %s %s',\n",
       " 'LESSOPEN': '| /usr/bin/lesspipe %s',\n",
       " 'LOGNAME': 'jamie',\n",
       " 'MPLBACKEND': 'module://ipykernel.pylab.backend_inline',\n",
       " 'NVM_BIN': '/home/jamie/.nvm/versions/node/v12.16.0/bin',\n",
       " 'NVM_CD_FLAGS': '',\n",
       " 'NVM_DIR': '/home/jamie/.nvm',\n",
       " 'OLDPWD': '/home/jamie/code/kaggle-bengali-ai',\n",
       " 'PAGER': 'cat',\n",
       " 'PATH': './venv/bin:/home/jamie/code/kaggle-bengali-ai/venv/bin:/home/jamie/.nvm/versions/node/v12.16.0/bin:/usr/local/bin:/usr/local/sbin/:/usr/local/opt/coreutils/libexec/gnubin:/home/jamie/.local/bin:/usr/local/sbin:/usr/sbin:/usr/bin:/sbin:/bin:/usr/games:/usr/local/games:/snap/bin:./.anaconda3/bin:./.local/bin:./node_modules/.bin:~/.config/yarn/global/node_modules/.bin/:~/.cabal/bin:~/.cargo/bin:~/.local/bin:~/.rvm/bin:~/Library/Haskell/bin:~/.git-scripts:~/Dropbox/Programming/command-line-scripts:/usr/local/cuda-10.1/bin',\n",
       " 'PS1': \"(venv)  \\\\n\\\\[\\\\e[32;1m\\\\][\\\\t]\\\\[\\\\e[35;1m\\\\]\\\\u\\\\[\\\\e[37;1m\\\\]@\\\\[\\\\e[35;1m\\\\]jamie-Blade-Pro\\\\[\\\\e[37;1m\\\\]:\\\\[\\\\e[33;1m\\\\]\\\\w$(__git_ps1 '\\\\[\\\\e[37;1m\\\\]|\\\\[\\\\e[31;1m\\\\]%s')\\\\[\\\\e[37;1m\\\\]\\\\$ \\\\[\\\\e[0m\\\\]\\\\n\",\n",
       " 'PWD': '/home/jamie/code/kaggle-bengali-ai/notebooks',\n",
       " 'PYTHONPATH': '/home/jamie/code/kaggle-bengali-ai',\n",
       " 'PYTHONSTARTUP': './.pythonstartup.py',\n",
       " 'QT4_IM_MODULE': 'xim',\n",
       " 'QT_ACCESSIBILITY': '1',\n",
       " 'QT_IM_MODULE': 'ibus',\n",
       " 'SESSION_MANAGER': 'local/jamie-Blade-Pro:@/tmp/.ICE-unix/2275,unix/jamie-Blade-Pro:/tmp/.ICE-unix/2275',\n",
       " 'SHELL': 'bash',\n",
       " 'SHLVL': '1',\n",
       " 'SNAP': '/snap/intellij-idea-ultimate/204',\n",
       " 'SNAP_ARCH': 'amd64',\n",
       " 'SNAP_COMMON': '/var/snap/intellij-idea-ultimate/common',\n",
       " 'SNAP_CONTEXT': 'jv7sWxCBpTBHp5RC3XX8yqsmnQgpCRKfcG7QPK6k8Y5V',\n",
       " 'SNAP_COOKIE': 'jv7sWxCBpTBHp5RC3XX8yqsmnQgpCRKfcG7QPK6k8Y5V',\n",
       " 'SNAP_DATA': '/var/snap/intellij-idea-ultimate/204',\n",
       " 'SNAP_INSTANCE_KEY': '',\n",
       " 'SNAP_INSTANCE_NAME': 'intellij-idea-ultimate',\n",
       " 'SNAP_LIBRARY_PATH': '/var/lib/snapd/lib/gl:/var/lib/snapd/lib/gl32:/var/lib/snapd/void',\n",
       " 'SNAP_NAME': 'intellij-idea-ultimate',\n",
       " 'SNAP_REEXEC': '',\n",
       " 'SNAP_REVISION': '204',\n",
       " 'SNAP_USER_COMMON': '/home/jamie/snap/intellij-idea-ultimate/common',\n",
       " 'SNAP_USER_DATA': '/home/jamie/snap/intellij-idea-ultimate/204',\n",
       " 'SNAP_VERSION': '2019.3.3',\n",
       " 'SSH_AGENT_PID': '2386',\n",
       " 'SSH_AUTH_SOCK': '/run/user/1000/keyring/ssh',\n",
       " 'TERM': 'xterm-color',\n",
       " 'TERMINAL_EMULATOR': 'JetBrains-JediTerm',\n",
       " 'TEXTDOMAIN': 'im-config',\n",
       " 'TEXTDOMAINDIR': '/usr/share/locale/',\n",
       " 'USER': 'jamie',\n",
       " 'VIRTUAL_ENV': '/home/jamie/code/kaggle-bengali-ai/venv',\n",
       " 'WINDOWPATH': '2',\n",
       " 'XAUTHORITY': '/run/user/1000/gdm/Xauthority',\n",
       " 'XDG_CONFIG_DIRS': '/etc/xdg/xdg-ubuntu:/etc/xdg',\n",
       " 'XDG_CURRENT_DESKTOP': 'ubuntu:GNOME',\n",
       " 'XDG_DATA_DIRS': '/usr/share/ubuntu:/usr/local/share/:/usr/share/:/var/lib/snapd/desktop',\n",
       " 'XDG_MENU_PREFIX': 'gnome-',\n",
       " 'XDG_RUNTIME_DIR': '/run/user/1000/snap.intellij-idea-ultimate',\n",
       " 'XDG_SEAT': 'seat0',\n",
       " 'XDG_SESSION_DESKTOP': 'ubuntu',\n",
       " 'XDG_SESSION_ID': '2',\n",
       " 'XDG_SESSION_TYPE': 'x11',\n",
       " 'XDG_VTNR': '2',\n",
       " 'XMODIFIERS': '@im=ibus',\n",
       " '_': '/home/jamie/code/kaggle-bengali-ai/venv/bin/jupyter',\n",
       " 'cabal_helper_libexecdir': '/home/jamie/.local/bin/'}"
      ]
     },
     "execution_count": 8,
     "metadata": {},
     "output_type": "execute_result"
    }
   ],
   "source": [
    "import os\n",
    "os_environ = {}\n",
    "\n",
    "{ k: (v if 'TOKEN' not in k else \"#\") for k,v in sorted(os.environ.items()) }"
   ]
  },
  {
   "cell_type": "code",
   "execution_count": 9,
   "metadata": {},
   "outputs": [],
   "source": [
    "# When running on Kaggle in batch mode after hitting the commit button\n",
    "os_environ['kaggle_commit_batch'] = {\n",
    "    '_': '/opt/conda/bin/jupyter',\n",
    "    'CLICOLOR': '1',\n",
    "    'GIT_PAGER': 'cat',\n",
    "    'HOME': '/root',\n",
    "    'HOSTNAME': '1d07050df1ff',\n",
    "    'JPY_PARENT_PID': '8',\n",
    "    'KAGGLE_DATA_PROXY_PROJECT': 'kaggle-161607',\n",
    "    'KAGGLE_DATA_PROXY_TOKEN': '#',\n",
    "    'KAGGLE_DATA_PROXY_URL': 'https://dp.kaggle.net',\n",
    "    'KAGGLE_KERNEL_INTEGRATIONS': '',\n",
    "    'KAGGLE_KERNEL_RUN_TYPE': 'Batch',\n",
    "    'KAGGLE_URL_BASE': 'https://www.kaggle.com',\n",
    "    'KAGGLE_USER_SECRETS_TOKEN': '#',\n",
    "    'LANG': 'C.UTF-8',\n",
    "    'LC_ALL': 'C.UTF-8',\n",
    "    'LD_LIBRARY_PATH': '/opt/conda/lib',\n",
    "    'MKL_THREADING_LAYER': 'GNU',\n",
    "    'MPLBACKEND': 'agg',\n",
    "    'OLDPWD': '/kaggle/working',\n",
    "    'PAGER': 'cat',\n",
    "    'PATH': '/opt/conda/bin:/usr/local/sbin:/usr/local/bin:/usr/sbin:/usr/bin:/sbin:/bin',\n",
    "    'PROJ_LIB': '/opt/conda/share/proj',\n",
    "    'PWD': '/kaggle/working',\n",
    "    'PYTHONPATH': '/kaggle/lib/kagglegym:/kaggle/lib',\n",
    "    'PYTHONUSERBASE': '/root/.local',\n",
    "    'SHLVL': '1',\n",
    "    'TERM': 'xterm-color',\n",
    "    'TESSERACT_PATH': '/usr/bin/tesseract',\n",
    "}\n",
    "\n",
    "# When editing in a Kaggle Interative Notebook\n",
    "os_environ['kaggle_interactive'] = {\n",
    "    '_': '/opt/conda/bin/jupyter',\n",
    "    'CLICOLOR': '1',\n",
    "    'GIT_PAGER': 'cat',\n",
    "    'HOME': '/root',\n",
    "    'HOSTNAME': 'ea8b88d7cf35',\n",
    "    'JPY_PARENT_PID': '8',\n",
    "    'KAGGLE_DATA_PROXY_PROJECT': 'kaggle-161607',\n",
    "    'KAGGLE_DATA_PROXY_TOKEN': '#',\n",
    "    'KAGGLE_DATA_PROXY_URL': 'https://dp.kaggle.net',\n",
    "    'KAGGLE_KERNEL_INTEGRATIONS': '',\n",
    "    'KAGGLE_KERNEL_RUN_TYPE': 'Interactive',\n",
    "    'KAGGLE_URL_BASE': 'https://www.kaggle.com',\n",
    "    'KAGGLE_USER_SECRETS_TOKEN': '#',\n",
    "    'LANG': 'C.UTF-8',\n",
    "    'LC_ALL': 'C.UTF-8',\n",
    "    'LD_LIBRARY_PATH': '/opt/conda/lib',\n",
    "    'MKL_THREADING_LAYER': 'GNU',\n",
    "    'MPLBACKEND': 'agg',\n",
    "    'PAGER': 'cat',\n",
    "    'PATH': '/opt/conda/bin:/usr/local/sbin:/usr/local/bin:/usr/sbin:/usr/bin:/sbin:/bin',\n",
    "    'PROJ_LIB': '/opt/conda/share/proj',\n",
    "    'PWD': '/kaggle/working',\n",
    "    'PYTHONPATH': '/kaggle/lib/kagglegym:/kaggle/lib',\n",
    "    'PYTHONUSERBASE': '/root/.local',\n",
    "    'SHLVL': '1',\n",
    "    'TERM': 'xterm-color',\n",
    "    'TESSERACT_PATH': '/usr/bin/tesseract',\n",
    "}\n",
    "\n",
    "\n",
    "# When running localhost Jupyter Lab from a Terminal and editing in a Webbrowser \n",
    "os_environ['localhost_jupyter_lab'] = {\n",
    "    'BAMF_DESKTOP_FILE_HINT': '/var/lib/snapd/desktop/applications/intellij-idea-ultimate_intellij-idea-ultimate.desktop',\n",
    "    'CLICOLOR': '1',\n",
    "    'CLUTTER_IM_MODULE': 'xim',\n",
    "    'COMP_CONFIGURE_HINTS': '1',\n",
    "    'COMP_CVS_REMOTE': '1',\n",
    "    'COMP_TAR_INTERNAL_PATHS': '1',\n",
    "    'DBUS_SESSION_BUS_ADDRESS': 'unix:path=/run/user/1000/bus',\n",
    "    'DESKTOP_SESSION': 'ubuntu',\n",
    "    'DISPLAY': ':1',\n",
    "    'EDITOR': 'vim',\n",
    "    'GDK_BACKEND': 'x11',\n",
    "    'GDMSESSION': 'ubuntu',\n",
    "    'GIO_LAUNCHED_DESKTOP_FILE': '/var/lib/snapd/desktop/applications/intellij-idea-ultimate_intellij-idea-ultimate.desktop',\n",
    "    'GIO_LAUNCHED_DESKTOP_FILE_PID': '10875',\n",
    "    'GIT_PAGER': 'cat',\n",
    "    'GJS_DEBUG_OUTPUT': 'stderr',\n",
    "    'GJS_DEBUG_TOPICS': 'JS ERROR;JS LOG',\n",
    "    'GNOME_DESKTOP_SESSION_ID': 'this-is-deprecated',\n",
    "    'GNOME_SHELL_SESSION_MODE': 'ubuntu',\n",
    "    'GPG_AGENT_INFO': '/run/user/1000/gnupg/S.gpg-agent:0:1',\n",
    "    'GTK_IM_MODULE': 'ibus',\n",
    "    'GTK_MODULES': '',\n",
    "    'HISTCONTROL': 'ignoreboth',\n",
    "    'HOME': '/home/jamie',\n",
    "    'HOMEBREW_GITHUB_API_TOKEN': '#',\n",
    "    'IM_CONFIG_PHASE': '2',\n",
    "    'JAVA_HOME': '',\n",
    "    'JPY_PARENT_PID': '2737',\n",
    "    'KERNEL_LAUNCH_TIMEOUT': '40',\n",
    "    'LANG': 'en_GB.UTF-8',\n",
    "    'LANGUAGE': 'en_GB:en',\n",
    "    'LD_LIBRARY_PATH': '/usr/local/cuda-10.1/targets/x86_64-linux/lib',\n",
    "    'LESS': '-R',\n",
    "    'LESSCLOSE': '/usr/bin/lesspipe %s %s',\n",
    "    'LESSOPEN': '| /usr/bin/lesspipe %s',\n",
    "    'LOGNAME': 'jamie',\n",
    "    'MPLBACKEND': 'module://ipykernel.pylab.backend_inline',\n",
    "    'NVM_BIN': '/home/jamie/.nvm/versions/node/v12.16.0/bin',\n",
    "    'NVM_CD_FLAGS': '',\n",
    "    'NVM_DIR': '/home/jamie/.nvm',\n",
    "    'OLDPWD': '/home/jamie/code',\n",
    "    'PAGER': 'cat',\n",
    "    'PATH': './venv/bin:/home/jamie/code/kaggle-bengali-ai/venv/bin:/home/jamie/.nvm/versions/node/v12.16.0/bin:/usr/local/bin:/usr/local/sbin/:/usr/local/opt/coreutils/libexec/gnubin:/home/jamie/.local/bin:/usr/local/sbin:/usr/sbin:/usr/bin:/sbin:/bin:/usr/games:/usr/local/games:/snap/bin:./.anaconda3/bin:./.local/bin:./node_modules/.bin:~/.config/yarn/global/node_modules/.bin/:~/.cabal/bin:~/.cargo/bin:~/.local/bin:~/.rvm/bin:~/Library/Haskell/bin:~/.git-scripts:~/Dropbox/Programming/command-line-scripts:/usr/local/cuda-10.1/bin',\n",
    "    'PS1': \"(venv)  \\\\n\\\\[\\\\e[32;1m\\\\][\\\\t]\\\\[\\\\e[35;1m\\\\]\\\\u\\\\[\\\\e[37;1m\\\\]@\\\\[\\\\e[35;1m\\\\]jamie-Blade-Pro\\\\[\\\\e[37;1m\\\\]:\\\\[\\\\e[33;1m\\\\]\\\\w$(__git_ps1 '\\\\[\\\\e[37;1m\\\\]|\\\\[\\\\e[31;1m\\\\]%s')\\\\[\\\\e[37;1m\\\\]\\\\$ \\\\[\\\\e[0m\\\\]\\\\n\",\n",
    "    'PWD': '/home/jamie/code/kaggle-bengali-ai',\n",
    "    'PYTHONPATH': '/home/jamie/code/kaggle-bengali-ai',\n",
    "    'PYTHONSTARTUP': './.pythonstartup.py',\n",
    "    'QT4_IM_MODULE': 'xim',\n",
    "    'QT_ACCESSIBILITY': '1',\n",
    "    'QT_IM_MODULE': 'ibus',\n",
    "    'SESSION_MANAGER': 'local/jamie-Blade-Pro:@/tmp/.ICE-unix/2275,unix/jamie-Blade-Pro:/tmp/.ICE-unix/2275',\n",
    "    'SHELL': 'bash',\n",
    "    'SHLVL': '1',\n",
    "    'SNAP': '/snap/intellij-idea-ultimate/204',\n",
    "    'SNAP_ARCH': 'amd64',\n",
    "    'SNAP_COMMON': '/var/snap/intellij-idea-ultimate/common',\n",
    "    'SNAP_CONTEXT': 'jv7sWxCBpTBHp5RC3XX8yqsmnQgpCRKfcG7QPK6k8Y5V',\n",
    "    'SNAP_COOKIE': 'jv7sWxCBpTBHp5RC3XX8yqsmnQgpCRKfcG7QPK6k8Y5V',\n",
    "    'SNAP_DATA': '/var/snap/intellij-idea-ultimate/204',\n",
    "    'SNAP_INSTANCE_KEY': '',\n",
    "    'SNAP_INSTANCE_NAME': 'intellij-idea-ultimate',\n",
    "    'SNAP_LIBRARY_PATH': '/var/lib/snapd/lib/gl:/var/lib/snapd/lib/gl32:/var/lib/snapd/void',\n",
    "    'SNAP_NAME': 'intellij-idea-ultimate',\n",
    "    'SNAP_REEXEC': '',\n",
    "    'SNAP_REVISION': '204',\n",
    "    'SNAP_USER_COMMON': '/home/jamie/snap/intellij-idea-ultimate/common',\n",
    "    'SNAP_USER_DATA': '/home/jamie/snap/intellij-idea-ultimate/204',\n",
    "    'SNAP_VERSION': '2019.3.3',\n",
    "    'SSH_AGENT_PID': '2386',\n",
    "    'SSH_AUTH_SOCK': '/run/user/1000/keyring/ssh',\n",
    "    'TERM': 'xterm-color',\n",
    "    'TERMINAL_EMULATOR': 'JetBrains-JediTerm',\n",
    "    'TEXTDOMAIN': 'im-config',\n",
    "    'TEXTDOMAINDIR': '/usr/share/locale/',\n",
    "    'USER': 'jamie',\n",
    "    'VIRTUAL_ENV': '/home/jamie/code/kaggle-bengali-ai/venv',\n",
    "    'WINDOWPATH': '2',\n",
    "    'XAUTHORITY': '/run/user/1000/gdm/Xauthority',\n",
    "    'XDG_CONFIG_DIRS': '/etc/xdg/xdg-ubuntu:/etc/xdg',\n",
    "    'XDG_CURRENT_DESKTOP': 'ubuntu:GNOME',\n",
    "    'XDG_DATA_DIRS': '/usr/share/ubuntu:/usr/local/share/:/usr/share/:/var/lib/snapd/desktop',\n",
    "    'XDG_MENU_PREFIX': 'gnome-',\n",
    "    'XDG_RUNTIME_DIR': '/run/user/1000/snap.intellij-idea-ultimate',\n",
    "    'XDG_SEAT': 'seat0',\n",
    "    'XDG_SESSION_DESKTOP': 'ubuntu',\n",
    "    'XDG_SESSION_ID': '2',\n",
    "    'XDG_SESSION_TYPE': 'x11',\n",
    "    'XDG_VTNR': '2',\n",
    "    'XMODIFIERS': '@im=ibus',\n",
    "    '_': './venv/bin/jupyter',\n",
    "    'cabal_helper_libexecdir': '/home/jamie/.local/bin/'\n",
    "}\n",
    "\n",
    "# When using IntelliJ as an inline Jupyter IDE    \n",
    "os_environ['localhost_intellij'] = {\n",
    "    'BAMF_DESKTOP_FILE_HINT': '/var/lib/snapd/desktop/applications/intellij-idea-ultimate_intellij-idea-ultimate.desktop',\n",
    "    'CLICOLOR': '1',\n",
    "    'CLUTTER_IM_MODULE': 'xim',\n",
    "    'DBUS_SESSION_BUS_ADDRESS': 'unix:path=/run/user/1000/bus',\n",
    "    'DESKTOP_SESSION': 'ubuntu',\n",
    "    'DISPLAY': ':1',\n",
    "    'GDK_BACKEND': 'x11',\n",
    "    'GDMSESSION': 'ubuntu',\n",
    "    'GIO_LAUNCHED_DESKTOP_FILE': '/var/lib/snapd/desktop/applications/intellij-idea-ultimate_intellij-idea-ultimate.desktop',\n",
    "    'GIO_LAUNCHED_DESKTOP_FILE_PID': '10875',\n",
    "    'GIT_PAGER': 'cat',\n",
    "    'GJS_DEBUG_OUTPUT': 'stderr',\n",
    "    'GJS_DEBUG_TOPICS': 'JS ERROR;JS LOG',\n",
    "    'GNOME_DESKTOP_SESSION_ID': 'this-is-deprecated',\n",
    "    'GNOME_SHELL_SESSION_MODE': 'ubuntu',\n",
    "    'GPG_AGENT_INFO': '/run/user/1000/gnupg/S.gpg-agent:0:1',\n",
    "    'GTK_IM_MODULE': 'ibus',\n",
    "    'GTK_MODULES': '',\n",
    "    'HOME': '/home/jamie',\n",
    "    'IM_CONFIG_PHASE': '2',\n",
    "    'JPY_PARENT_PID': '31229',\n",
    "    'KERNEL_LAUNCH_TIMEOUT': '40',\n",
    "    'LANG': 'en_GB.UTF-8',\n",
    "    'LANGUAGE': 'en_GB:en',\n",
    "    'LOGNAME': 'jamie',\n",
    "    'MPLBACKEND': 'module://ipykernel.pylab.backend_inline',\n",
    "    'OLDPWD': '/snap/intellij-idea-ultimate/204/bin',\n",
    "    'PAGER': 'cat',\n",
    "    'PATH': './venv/bin:/home/jamie/code/kaggle-bengali-ai/venv/bin:/home/jamie/.local/bin:/usr/local/bin:/usr/local/sbin/:/usr/local/opt/coreutils/libexec/gnubin:/usr/local/sbin:/usr/sbin:/usr/bin:/sbin:/bin:/usr/games:/usr/local/games:/snap/bin:./.anaconda3/bin:./.local/bin:./node_modules/.bin:~/.config/yarn/global/node_modules/.bin/:~/.cabal/bin:~/.cargo/bin:~/.local/bin:~/.rvm/bin:~/Library/Haskell/bin:~/.git-scripts:~/Dropbox/Programming/command-line-scripts:/usr/local/cuda-10.1/bin',\n",
    "    'PS1': '(venv) ',\n",
    "    'PWD': '/home/jamie/code/kaggle-bengali-ai',\n",
    "    'PYTHONPATH': '/home/jamie/code/kaggle-bengali-ai',\n",
    "    'QT4_IM_MODULE': 'xim',\n",
    "    'QT_ACCESSIBILITY': '1',\n",
    "    'QT_IM_MODULE': 'ibus',\n",
    "    'SESSION_MANAGER': 'local/jamie-Blade-Pro:@/tmp/.ICE-unix/2275,unix/jamie-Blade-Pro:/tmp/.ICE-unix/2275',\n",
    "    'SHELL': '/bin/bash',\n",
    "    'SHLVL': '0',\n",
    "    'SNAP': '/snap/intellij-idea-ultimate/204',\n",
    "    'SNAP_ARCH': 'amd64',\n",
    "    'SNAP_COMMON': '/var/snap/intellij-idea-ultimate/common',\n",
    "    'SNAP_CONTEXT': 'jv7sWxCBpTBHp5RC3XX8yqsmnQgpCRKfcG7QPK6k8Y5V',\n",
    "    'SNAP_COOKIE': 'jv7sWxCBpTBHp5RC3XX8yqsmnQgpCRKfcG7QPK6k8Y5V',\n",
    "    'SNAP_DATA': '/var/snap/intellij-idea-ultimate/204',\n",
    "    'SNAP_INSTANCE_KEY': '',\n",
    "    'SNAP_INSTANCE_NAME': 'intellij-idea-ultimate',\n",
    "    'SNAP_LIBRARY_PATH': '/var/lib/snapd/lib/gl:/var/lib/snapd/lib/gl32:/var/lib/snapd/void',\n",
    "    'SNAP_NAME': 'intellij-idea-ultimate',\n",
    "    'SNAP_REEXEC': '',\n",
    "    'SNAP_REVISION': '204',\n",
    "    'SNAP_USER_COMMON': '/home/jamie/snap/intellij-idea-ultimate/common',\n",
    "    'SNAP_USER_DATA': '/home/jamie/snap/intellij-idea-ultimate/204',\n",
    "    'SNAP_VERSION': '2019.3.3',\n",
    "    'SSH_AGENT_PID': '2386',\n",
    "    'SSH_AUTH_SOCK': '/run/user/1000/keyring/ssh',\n",
    "    'TERM': 'xterm-color',\n",
    "    'TEXTDOMAIN': 'im-config',\n",
    "    'TEXTDOMAINDIR': '/usr/share/locale/',\n",
    "    'USER': 'jamie',\n",
    "    'USERNAME': 'jamie',\n",
    "    'VIRTUAL_ENV': '/home/jamie/code/kaggle-bengali-ai/venv',\n",
    "    'WINDOWPATH': '2',\n",
    "    'XAUTHORITY': '/run/user/1000/gdm/Xauthority',\n",
    "    'XDG_CONFIG_DIRS': '/etc/xdg/xdg-ubuntu:/etc/xdg',\n",
    "    'XDG_CURRENT_DESKTOP': 'ubuntu:GNOME',\n",
    "    'XDG_DATA_DIRS': '/usr/share/ubuntu:/usr/local/share/:/usr/share/:/var/lib/snapd/desktop',\n",
    "    'XDG_MENU_PREFIX': 'gnome-',\n",
    "    'XDG_RUNTIME_DIR': '/run/user/1000/snap.intellij-idea-ultimate',\n",
    "    'XDG_SEAT': 'seat0',\n",
    "    'XDG_SESSION_DESKTOP': 'ubuntu',\n",
    "    'XDG_SESSION_ID': '2',\n",
    "    'XDG_SESSION_TYPE': 'x11',\n",
    "    'XDG_VTNR': '2',\n",
    "    'XMODIFIERS': '@im=ibus'\n",
    "}"
   ]
  },
  {
   "cell_type": "markdown",
   "metadata": {},
   "source": [
    "# Differences in Keys"
   ]
  },
  {
   "cell_type": "code",
   "execution_count": 10,
   "metadata": {},
   "outputs": [
    {
     "data": {
      "text/plain": [
       "{'HOSTNAME',\n",
       " 'KAGGLE_DATA_PROXY_PROJECT',\n",
       " 'KAGGLE_DATA_PROXY_TOKEN',\n",
       " 'KAGGLE_DATA_PROXY_URL',\n",
       " 'KAGGLE_KERNEL_INTEGRATIONS',\n",
       " 'KAGGLE_KERNEL_RUN_TYPE',\n",
       " 'KAGGLE_URL_BASE',\n",
       " 'KAGGLE_USER_SECRETS_TOKEN',\n",
       " 'LC_ALL',\n",
       " 'MKL_THREADING_LAYER',\n",
       " 'PROJ_LIB',\n",
       " 'PYTHONUSERBASE',\n",
       " 'TESSERACT_PATH'}"
      ]
     },
     "execution_count": 10,
     "metadata": {},
     "output_type": "execute_result"
    }
   ],
   "source": [
    "# Keys only found on Kaggle and not on Localhost  \n",
    "(\n",
    "      ( set(os_environ['kaggle_interactive'].keys())    | set(os_environ['kaggle_commit_batch'].keys()) )\n",
    "    - ( set(os_environ['localhost_jupyter_lab'].keys()) | set(os_environ['localhost_intellij'].keys())  )\n",
    ")"
   ]
  },
  {
   "cell_type": "code",
   "execution_count": 11,
   "metadata": {},
   "outputs": [
    {
     "data": {
      "text/plain": [
       "{'COMP_CONFIGURE_HINTS',\n",
       " 'COMP_CVS_REMOTE',\n",
       " 'COMP_TAR_INTERNAL_PATHS',\n",
       " 'EDITOR',\n",
       " 'HISTCONTROL',\n",
       " 'HOMEBREW_GITHUB_API_TOKEN',\n",
       " 'JAVA_HOME',\n",
       " 'LESS',\n",
       " 'LESSCLOSE',\n",
       " 'LESSOPEN',\n",
       " 'NVM_BIN',\n",
       " 'NVM_CD_FLAGS',\n",
       " 'NVM_DIR',\n",
       " 'PYTHONSTARTUP',\n",
       " 'TERMINAL_EMULATOR',\n",
       " 'cabal_helper_libexecdir'}"
      ]
     },
     "execution_count": 11,
     "metadata": {},
     "output_type": "execute_result"
    }
   ],
   "source": [
    "# Keys only found on JupyterLab Localhost (run from terminal) and on Kaggle or inside IntelliJ IDE  \n",
    "(\n",
    "    set(os_environ['localhost_jupyter_lab'].keys()) \n",
    "    - set(os_environ['localhost_intellij'].keys()) \n",
    "    - set(os_environ['kaggle_interactive'].keys()) \n",
    "    - set(os_environ['kaggle_commit_batch'].keys()) \n",
    ")"
   ]
  },
  {
   "cell_type": "code",
   "execution_count": 12,
   "metadata": {},
   "outputs": [
    {
     "data": {
      "text/plain": [
       "{'USERNAME'}"
      ]
     },
     "execution_count": 12,
     "metadata": {},
     "output_type": "execute_result"
    }
   ],
   "source": [
    "# Keys only found in localhost IntelliJ  \n",
    "( \n",
    "    set(os_environ['localhost_intellij'].keys())\n",
    "    - set(os_environ['localhost_jupyter_lab'].keys())   \n",
    ")"
   ]
  },
  {
   "cell_type": "code",
   "execution_count": 13,
   "metadata": {},
   "outputs": [
    {
     "data": {
      "text/plain": [
       "{'BAMF_DESKTOP_FILE_HINT',\n",
       " 'CLUTTER_IM_MODULE',\n",
       " 'COMP_CONFIGURE_HINTS',\n",
       " 'COMP_CVS_REMOTE',\n",
       " 'COMP_TAR_INTERNAL_PATHS',\n",
       " 'DBUS_SESSION_BUS_ADDRESS',\n",
       " 'DESKTOP_SESSION',\n",
       " 'DISPLAY',\n",
       " 'EDITOR',\n",
       " 'GDK_BACKEND',\n",
       " 'GDMSESSION',\n",
       " 'GIO_LAUNCHED_DESKTOP_FILE',\n",
       " 'GIO_LAUNCHED_DESKTOP_FILE_PID',\n",
       " 'GJS_DEBUG_OUTPUT',\n",
       " 'GJS_DEBUG_TOPICS',\n",
       " 'GNOME_DESKTOP_SESSION_ID',\n",
       " 'GNOME_SHELL_SESSION_MODE',\n",
       " 'GPG_AGENT_INFO',\n",
       " 'GTK_IM_MODULE',\n",
       " 'GTK_MODULES',\n",
       " 'HISTCONTROL',\n",
       " 'HOMEBREW_GITHUB_API_TOKEN',\n",
       " 'IM_CONFIG_PHASE',\n",
       " 'JAVA_HOME',\n",
       " 'KERNEL_LAUNCH_TIMEOUT',\n",
       " 'LANGUAGE',\n",
       " 'LESS',\n",
       " 'LESSCLOSE',\n",
       " 'LESSOPEN',\n",
       " 'LOGNAME',\n",
       " 'NVM_BIN',\n",
       " 'NVM_CD_FLAGS',\n",
       " 'NVM_DIR',\n",
       " 'PS1',\n",
       " 'PYTHONSTARTUP',\n",
       " 'QT4_IM_MODULE',\n",
       " 'QT_ACCESSIBILITY',\n",
       " 'QT_IM_MODULE',\n",
       " 'SESSION_MANAGER',\n",
       " 'SHELL',\n",
       " 'SNAP',\n",
       " 'SNAP_ARCH',\n",
       " 'SNAP_COMMON',\n",
       " 'SNAP_CONTEXT',\n",
       " 'SNAP_COOKIE',\n",
       " 'SNAP_DATA',\n",
       " 'SNAP_INSTANCE_KEY',\n",
       " 'SNAP_INSTANCE_NAME',\n",
       " 'SNAP_LIBRARY_PATH',\n",
       " 'SNAP_NAME',\n",
       " 'SNAP_REEXEC',\n",
       " 'SNAP_REVISION',\n",
       " 'SNAP_USER_COMMON',\n",
       " 'SNAP_USER_DATA',\n",
       " 'SNAP_VERSION',\n",
       " 'SSH_AGENT_PID',\n",
       " 'SSH_AUTH_SOCK',\n",
       " 'TERMINAL_EMULATOR',\n",
       " 'TEXTDOMAIN',\n",
       " 'TEXTDOMAINDIR',\n",
       " 'USER',\n",
       " 'USERNAME',\n",
       " 'VIRTUAL_ENV',\n",
       " 'WINDOWPATH',\n",
       " 'XAUTHORITY',\n",
       " 'XDG_CONFIG_DIRS',\n",
       " 'XDG_CURRENT_DESKTOP',\n",
       " 'XDG_DATA_DIRS',\n",
       " 'XDG_MENU_PREFIX',\n",
       " 'XDG_RUNTIME_DIR',\n",
       " 'XDG_SEAT',\n",
       " 'XDG_SESSION_DESKTOP',\n",
       " 'XDG_SESSION_ID',\n",
       " 'XDG_SESSION_TYPE',\n",
       " 'XDG_VTNR',\n",
       " 'XMODIFIERS',\n",
       " 'cabal_helper_libexecdir'}"
      ]
     },
     "execution_count": 13,
     "metadata": {},
     "output_type": "execute_result"
    }
   ],
   "source": [
    "# Keys only found on Localhost (any) and not running on Kaggle  \n",
    "(\n",
    "      ( set(os_environ['localhost_jupyter_lab'].keys()) | set(os_environ['localhost_intellij'].keys())  )\n",
    "    - ( set(os_environ['kaggle_interactive'].keys())    | set(os_environ['kaggle_commit_batch'].keys()) )\n",
    ")"
   ]
  }
 ],
 "metadata": {
  "kernelspec": {
   "display_name": "Python 3",
   "language": "python",
   "name": "python3"
  },
  "language_info": {
   "codemirror_mode": {
    "name": "ipython",
    "version": 3
   },
   "file_extension": ".py",
   "mimetype": "text/x-python",
   "name": "python",
   "nbconvert_exporter": "python",
   "pygments_lexer": "ipython3",
   "version": "3.6.9"
  }
 },
 "nbformat": 4,
 "nbformat_minor": 4
}
